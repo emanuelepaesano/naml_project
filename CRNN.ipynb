{
 "cells": [
  {
   "cell_type": "code",
   "execution_count": 40,
   "metadata": {},
   "outputs": [],
   "source": [
    "from tensorflow import keras\n",
    "from keras import Sequential\n",
    "from keras.layers import Conv2D, MaxPool2D, BatchNormalization, Flatten, Dense, Dropout, GRU, Reshape\n",
    "import numpy as np\n",
    "import pandas as pd\n",
    "import seaborn as sn\n",
    "import matplotlib.pyplot as plt\n",
    "from sklearn.metrics import confusion_matrix"
   ]
  },
  {
   "cell_type": "code",
   "execution_count": 21,
   "metadata": {},
   "outputs": [
    {
     "name": "stdout",
     "output_type": "stream",
     "text": [
      "Num GPUs Available:  1\n"
     ]
    },
    {
     "data": {
      "text/plain": [
       "[name: \"/device:CPU:0\"\n",
       " device_type: \"CPU\"\n",
       " memory_limit: 268435456\n",
       " locality {\n",
       " }\n",
       " incarnation: 104275729115243218\n",
       " xla_global_id: -1,\n",
       " name: \"/device:GPU:0\"\n",
       " device_type: \"GPU\"\n",
       " memory_limit: 2909221684\n",
       " locality {\n",
       "   bus_id: 1\n",
       "   links {\n",
       "   }\n",
       " }\n",
       " incarnation: 16403570293308429843\n",
       " physical_device_desc: \"device: 0, name: NVIDIA GeForce GTX 1050 Ti, pci bus id: 0000:01:00.0, compute capability: 6.1\"\n",
       " xla_global_id: 416903419]"
      ]
     },
     "execution_count": 21,
     "metadata": {},
     "output_type": "execute_result"
    }
   ],
   "source": [
    "import tensorflow as tf\n",
    "from tensorflow.python.client import device_lib\n",
    "print(\"Num GPUs Available: \", len(tf.config.list_physical_devices('GPU')))\n",
    "device_lib.list_local_devices()"
   ]
  },
  {
   "cell_type": "code",
   "execution_count": 22,
   "metadata": {},
   "outputs": [
    {
     "name": "stdout",
     "output_type": "stream",
     "text": [
      "before: (7983, 100, 130)\n",
      "after: (7983, 130, 100)\n",
      "final: (7983, 130, 100, 1)\n"
     ]
    }
   ],
   "source": [
    "X_train = np.load('training_data\\specs_train_processed.npy')\n",
    "print(f\"before: {X_train.shape}\")\n",
    "X_train = np.swapaxes(X_train,2,1)\n",
    "print(f\"after: {X_train.shape}\")\n",
    "X_train = np.expand_dims(X_train,3)\n",
    "print(f\"final: {X_train.shape}\")\n",
    "y_train = np.load('training_data\\labels_train_processed.npy')"
   ]
  },
  {
   "cell_type": "code",
   "execution_count": 23,
   "metadata": {},
   "outputs": [
    {
     "data": {
      "text/plain": [
       "(130, 100, 1)"
      ]
     },
     "execution_count": 23,
     "metadata": {},
     "output_type": "execute_result"
    }
   ],
   "source": [
    "X_train.shape[1:]"
   ]
  },
  {
   "cell_type": "code",
   "execution_count": 24,
   "metadata": {},
   "outputs": [
    {
     "name": "stdout",
     "output_type": "stream",
     "text": [
      "(None, 130, 100, 1)\n",
      "(None, 64, 49, 16)\n",
      "(None, 31, 23, 32)\n",
      "(None, 14, 10, 64)\n",
      "(None, 6, 5, 128)\n",
      "(None, 2, 1, 128)\n"
     ]
    }
   ],
   "source": [
    "from keras import Model\n",
    "from keras.layers import Input, Dense, concatenate\n",
    "N_CLASSES = 10\n",
    "a_input = Input(shape = X_train.shape[1:])\n",
    "print(a_input.shape)\n",
    "#1\n",
    "a = Conv2D(filters=16, kernel_size=(3,3), input_shape=X_train.shape[1:])(a_input)\n",
    "a = MaxPool2D(pool_size=(2,2))(a)\n",
    "a = BatchNormalization()(a)\n",
    "print(a.shape)\n",
    "#2\n",
    "a = Conv2D(filters=32, kernel_size=(3,3))(a)\n",
    "a = (MaxPool2D(pool_size=(2,2)))(a)\n",
    "a = (BatchNormalization())(a)\n",
    "print(a.shape)\n",
    "#3\n",
    "a=(Conv2D(filters=64, kernel_size=(3,3)))(a)\n",
    "a=(MaxPool2D(pool_size=(2,2)))(a)\n",
    "a=(BatchNormalization())(a)\n",
    "print(a.shape)\n",
    "#4\n",
    "a=(Conv2D(filters=128, kernel_size=(3,1)))(a)\n",
    "a=(MaxPool2D(pool_size=(2,2)))(a)\n",
    "a=(BatchNormalization())(a)\n",
    "print(a.shape)\n",
    "#5\n",
    "a=(Conv2D(filters=128, kernel_size=(3,3)))(a)\n",
    "a=(MaxPool2D(pool_size=(2,3)))(a)\n",
    "a=(BatchNormalization())(a)\n",
    "print(a.shape)\n",
    "a = (Reshape((256,)))(a)\n",
    "# Recurrent Layer\n",
    "a = Model(inputs=a_input, outputs=a)\n"
   ]
  },
  {
   "cell_type": "code",
   "execution_count": 25,
   "metadata": {},
   "outputs": [
    {
     "name": "stdout",
     "output_type": "stream",
     "text": [
      "(None, 130, 100, 1)\n"
     ]
    }
   ],
   "source": [
    "from keras.layers import Embedding, Bidirectional,LSTM\n",
    "print(a_input.shape)\n",
    "# b = (MaxPool2D(pool_size=(2,1),strides = (2,1)))(a_input)\n",
    "# print(b.shape)\n",
    "b = (Reshape((130,100)))(a_input)\n",
    "b = Bidirectional(GRU(256))(b)\n",
    "b = Model(inputs=a_input, outputs=b)"
   ]
  },
  {
   "cell_type": "code",
   "execution_count": 26,
   "metadata": {},
   "outputs": [],
   "source": [
    "mixed = concatenate([a.output,b.output])\n",
    "z = Dense(10,activation = 'tanh')(mixed)\n",
    "z = Dense(N_CLASSES,activation='softmax')(z)\n",
    "# Output Layer"
   ]
  },
  {
   "cell_type": "code",
   "execution_count": 27,
   "metadata": {},
   "outputs": [],
   "source": [
    "model = Model(inputs=a.input, outputs=z)"
   ]
  },
  {
   "cell_type": "code",
   "execution_count": 28,
   "metadata": {},
   "outputs": [],
   "source": [
    "# N_CLASSES = 10\n",
    "# model = Sequential(name=\"gtzan_crnn\")\n",
    "\n",
    "# # Convolutional Block 1\n",
    "# model.add(Conv2D(filters=16, kernel_size=(3,3), input_shape=X_train.shape[1:])) # X_train holds the processed training spectrograms\n",
    "# model.add(MaxPool2D(pool_size=(2,2)))\n",
    "# model.add(BatchNormalization())\n",
    "\n",
    "# # Convolutional Block 2\n",
    "# model.add(Conv2D(filters=32, kernel_size=(3,3)))\n",
    "# model.add(MaxPool2D(pool_size=(2,2)))\n",
    "# model.add(BatchNormalization())\n",
    "\n",
    "# # Convolutional Block 3\n",
    "# model.add(Conv2D(filters=64, kernel_size=(3,3)))\n",
    "# model.add(MaxPool2D(pool_size=(2,2)))\n",
    "# model.add(BatchNormalization())\n",
    "\n",
    "# # Convolutional Block 4\n",
    "# model.add(Conv2D(filters=128, kernel_size=(3,3)))\n",
    "# model.add(MaxPool2D(pool_size=(1,5)))\n",
    "# model.add(BatchNormalization())\n",
    "\n",
    "# # Reshape Layer (effectively squeezes the frequency dimension away)\n",
    "# model.add(Reshape((12,128)))\n",
    "# # Recurrent Layer\n",
    "# model.add(GRU(256, return_sequences=False, activation=\"tanh\"))\n",
    "\n",
    "# # Dense Layer\n",
    "# model.add(Dense(64))\n",
    "# model.add(Dropout(0.4))\n",
    "\n",
    "# # Output Layer\n",
    "# model.add(Dense(N_CLASSES, activation=\"softmax\"))"
   ]
  },
  {
   "cell_type": "code",
   "execution_count": 29,
   "metadata": {},
   "outputs": [],
   "source": [
    "x_valid = np.load('training_data\\specs_val_processed.npy')\n",
    "x_valid = np.swapaxes(x_valid,2,1)\n",
    "x_valid = np.expand_dims(x_valid,3)\n",
    "y_valid = np.load('training_data\\labels_val_processed.npy')"
   ]
  },
  {
   "cell_type": "code",
   "execution_count": 30,
   "metadata": {},
   "outputs": [],
   "source": [
    "features = pd.read_csv(\"features_final.csv\")\n",
    "features_valid = pd.read_csv(\"features_valid.csv\")\n",
    "features_test = pd.read_csv(\"features_test.csv\")\n",
    "features = features.drop('Unnamed: 0',axis=1)\n",
    "features_test = features_test.drop('Unnamed: 0',axis=1)\n",
    "features_valid = features_valid.drop('Unnamed: 0',axis=1)"
   ]
  },
  {
   "cell_type": "code",
   "execution_count": 31,
   "metadata": {},
   "outputs": [
    {
     "name": "stdout",
     "output_type": "stream",
     "text": [
      "You must install pydot (`pip install pydot`) and install graphviz (see instructions at https://graphviz.gitlab.io/download/) for plot_model to work.\n"
     ]
    }
   ],
   "source": [
    "from keras.utils.vis_utils import plot_model\n",
    "plot_model(model, show_shapes=True, show_layer_names=True)"
   ]
  },
  {
   "cell_type": "code",
   "execution_count": 32,
   "metadata": {},
   "outputs": [
    {
     "name": "stdout",
     "output_type": "stream",
     "text": [
      "Epoch 1/25\n",
      "125/125 [==============================] - 25s 90ms/step - loss: 1.7435 - accuracy: 0.4337 - val_loss: 2.7639 - val_accuracy: 0.1346\n",
      "Epoch 2/25\n",
      "125/125 [==============================] - 9s 70ms/step - loss: 1.3513 - accuracy: 0.5940 - val_loss: 2.9533 - val_accuracy: 0.1032\n",
      "Epoch 3/25\n",
      "125/125 [==============================] - 9s 69ms/step - loss: 1.1078 - accuracy: 0.6986 - val_loss: 2.5272 - val_accuracy: 0.2085\n",
      "Epoch 4/25\n",
      "125/125 [==============================] - 9s 70ms/step - loss: 0.8976 - accuracy: 0.7671 - val_loss: 1.7059 - val_accuracy: 0.3745\n",
      "Epoch 5/25\n",
      "125/125 [==============================] - 9s 69ms/step - loss: 0.7201 - accuracy: 0.8224 - val_loss: 1.5526 - val_accuracy: 0.4767\n",
      "Epoch 6/25\n",
      "125/125 [==============================] - 9s 70ms/step - loss: 0.5389 - accuracy: 0.8824 - val_loss: 1.2057 - val_accuracy: 0.5972\n",
      "Epoch 7/25\n",
      "125/125 [==============================] - 9s 69ms/step - loss: 0.3968 - accuracy: 0.9217 - val_loss: 1.5276 - val_accuracy: 0.5243\n",
      "Epoch 8/25\n",
      "125/125 [==============================] - 9s 69ms/step - loss: 0.2891 - accuracy: 0.9519 - val_loss: 1.6404 - val_accuracy: 0.5101\n",
      "Epoch 9/25\n",
      "125/125 [==============================] - 9s 69ms/step - loss: 0.2133 - accuracy: 0.9693 - val_loss: 1.5712 - val_accuracy: 0.5040\n",
      "Epoch 10/25\n",
      "125/125 [==============================] - 9s 69ms/step - loss: 0.1598 - accuracy: 0.9793 - val_loss: 1.4659 - val_accuracy: 0.5628\n",
      "Epoch 11/25\n",
      "125/125 [==============================] - 9s 68ms/step - loss: 0.1062 - accuracy: 0.9895 - val_loss: 1.5120 - val_accuracy: 0.5648\n",
      "Epoch 12/25\n",
      "125/125 [==============================] - 9s 70ms/step - loss: 0.0787 - accuracy: 0.9931 - val_loss: 1.5384 - val_accuracy: 0.5536\n",
      "Epoch 13/25\n",
      "125/125 [==============================] - 9s 70ms/step - loss: 0.0567 - accuracy: 0.9954 - val_loss: 1.5051 - val_accuracy: 0.5911\n",
      "Epoch 14/25\n",
      "125/125 [==============================] - 9s 69ms/step - loss: 0.0446 - accuracy: 0.9959 - val_loss: 1.4889 - val_accuracy: 0.6022\n",
      "Epoch 15/25\n",
      "125/125 [==============================] - 9s 70ms/step - loss: 0.0354 - accuracy: 0.9967 - val_loss: 1.4962 - val_accuracy: 0.6053\n",
      "Epoch 16/25\n",
      "125/125 [==============================] - 9s 68ms/step - loss: 0.0296 - accuracy: 0.9970 - val_loss: 1.4922 - val_accuracy: 0.5962\n",
      "Epoch 17/25\n",
      "125/125 [==============================] - 9s 69ms/step - loss: 0.0271 - accuracy: 0.9969 - val_loss: 1.4431 - val_accuracy: 0.6032\n",
      "Epoch 18/25\n",
      "125/125 [==============================] - 9s 69ms/step - loss: 0.0238 - accuracy: 0.9974 - val_loss: 1.6273 - val_accuracy: 0.5870\n",
      "Epoch 19/25\n",
      "125/125 [==============================] - 9s 69ms/step - loss: 0.0224 - accuracy: 0.9970 - val_loss: 1.4565 - val_accuracy: 0.6184\n",
      "Epoch 20/25\n",
      "125/125 [==============================] - 9s 70ms/step - loss: 0.0186 - accuracy: 0.9975 - val_loss: 1.4945 - val_accuracy: 0.6022\n",
      "Epoch 21/25\n",
      "125/125 [==============================] - 9s 69ms/step - loss: 0.0191 - accuracy: 0.9972 - val_loss: 1.5387 - val_accuracy: 0.6073\n",
      "Epoch 22/25\n",
      "125/125 [==============================] - 9s 69ms/step - loss: 0.0162 - accuracy: 0.9974 - val_loss: 1.5096 - val_accuracy: 0.6154\n",
      "Epoch 23/25\n",
      "125/125 [==============================] - 9s 69ms/step - loss: 0.0147 - accuracy: 0.9981 - val_loss: 1.5141 - val_accuracy: 0.6053\n",
      "Epoch 24/25\n",
      "125/125 [==============================] - 9s 69ms/step - loss: 0.0136 - accuracy: 0.9985 - val_loss: 1.6732 - val_accuracy: 0.5992\n",
      "Epoch 25/25\n",
      "125/125 [==============================] - 9s 70ms/step - loss: 0.0128 - accuracy: 0.9986 - val_loss: 1.5460 - val_accuracy: 0.6053\n"
     ]
    },
    {
     "data": {
      "text/plain": [
       "<keras.callbacks.History at 0x1be1308bac0>"
      ]
     },
     "execution_count": 32,
     "metadata": {},
     "output_type": "execute_result"
    }
   ],
   "source": [
    "model.compile(optimizer = keras.optimizers.Adam(learning_rate=0.001),\n",
    "              loss = keras.losses.SparseCategoricalCrossentropy(),\n",
    "              metrics=['accuracy'])\n",
    "model.fit(x= X_train, y=y_train, epochs = 25, validation_data = (x_valid, y_valid), batch_size=64)"
   ]
  },
  {
   "cell_type": "code",
   "execution_count": 33,
   "metadata": {},
   "outputs": [],
   "source": [
    "x_test = np.load('training_data\\specs_test_processed.npy')\n",
    "x_test = np.swapaxes(x_test,2,1)\n",
    "x_test = np.expand_dims(x_test,3)\n",
    "y_test = np.load('training_data\\labels_test_processed.npy')"
   ]
  },
  {
   "cell_type": "code",
   "execution_count": 34,
   "metadata": {},
   "outputs": [
    {
     "name": "stdout",
     "output_type": "stream",
     "text": [
      "32/32 [==============================] - 1s 25ms/step - loss: 1.4919 - accuracy: 0.6327\n"
     ]
    },
    {
     "data": {
      "text/plain": [
       "[1.4918761253356934, 0.6326732635498047]"
      ]
     },
     "execution_count": 34,
     "metadata": {},
     "output_type": "execute_result"
    }
   ],
   "source": [
    "model.evaluate(x=x_test, y=y_test)"
   ]
  },
  {
   "attachments": {},
   "cell_type": "markdown",
   "metadata": {},
   "source": [
    "## Confusion Matrix"
   ]
  },
  {
   "cell_type": "code",
   "execution_count": 35,
   "metadata": {},
   "outputs": [],
   "source": [
    "genres = {\n",
    " 0:'blues',\n",
    " 1:'classical',\n",
    " 2:'country',\n",
    " 3:'disco',\n",
    " 4:'hiphop',\n",
    " 5:'jazz',\n",
    " 6:'metal',\n",
    " 7:'pop',\n",
    " 8:'reggae',\n",
    " 9:'rock'\n",
    "}"
   ]
  },
  {
   "cell_type": "code",
   "execution_count": 41,
   "metadata": {},
   "outputs": [
    {
     "name": "stdout",
     "output_type": "stream",
     "text": [
      "32/32 [==============================] - 1s 24ms/step\n"
     ]
    },
    {
     "data": {
      "image/png": "[encoded data removed]",
      "text/plain": [
       "<Figure size 640x480 with 2 Axes>"
      ]
     },
     "metadata": {},
     "output_type": "display_data"
    }
   ],
   "source": [
    "\n",
    "y_prediction = model.predict(x_test)\n",
    "y_prediction = np.argmax (y_prediction, axis = 1)\n",
    "result = confusion_matrix(y_test, y_prediction , normalize='pred')\n",
    "\n",
    "df_cm = pd.DataFrame(result, (genres.values()), (genres.values()))\n",
    "#plt.figure(figsize=(10,7))\n",
    "sn.set(font_scale=1) # for label size\n",
    "sn.heatmap(df_cm, annot=True, annot_kws={\"size\": 8}) # font size\n",
    "\n",
    "plt.show()"
   ]
  },
  {
   "cell_type": "code",
   "execution_count": null,
   "metadata": {},
   "outputs": [
    {
     "ename": "NameError",
     "evalue": "name 'data' is not defined",
     "output_type": "error",
     "traceback": [
      "\u001b[1;31m---------------------------------------------------------------------------\u001b[0m",
      "\u001b[1;31mNameError\u001b[0m                                 Traceback (most recent call last)",
      "Cell \u001b[1;32mIn[23], line 1\u001b[0m\n\u001b[1;32m----> 1\u001b[0m data\u001b[39m.\u001b[39mshape\n",
      "\u001b[1;31mNameError\u001b[0m: name 'data' is not defined"
     ]
    }
   ],
   "source": [
    "data.shape"
   ]
  }
 ],
 "metadata": {
  "kernelspec": {
   "display_name": "Python 3",
   "language": "python",
   "name": "python3"
  },
  "language_info": {
   "codemirror_mode": {
    "name": "ipython",
    "version": 3
   },
   "file_extension": ".py",
   "mimetype": "text/x-python",
   "name": "python",
   "nbconvert_exporter": "python",
   "pygments_lexer": "ipython3",
   "version": "3.10.0"
  },
  "orig_nbformat": 4
 },
 "nbformat": 4,
 "nbformat_minor": 2
}
